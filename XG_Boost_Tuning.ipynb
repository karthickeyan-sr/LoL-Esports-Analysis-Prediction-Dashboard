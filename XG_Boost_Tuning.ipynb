{
 "cells": [
  {
   "cell_type": "markdown",
   "id": "9608de6d",
   "metadata": {},
   "source": [
    "# Hyperparameter Tuning for XGBoost Model"
   ]
  },
  {
   "cell_type": "markdown",
   "id": "0ec70824",
   "metadata": {},
   "source": [
    "## Introduction"
   ]
  },
  {
   "cell_type": "markdown",
   "id": "74643ddd",
   "metadata": {},
   "source": [
    "This notebook aims to optimize the performance of the XGBoost classifier applied to the League of Legends matches dataset. We will compare different hyperparameter tuning methods: Grid Search, Randomized Search, and Bayesian Optimization."
   ]
  },
  {
   "cell_type": "markdown",
   "id": "6f344642",
   "metadata": {},
   "source": [
    "## Installing Prerequisites\n"
   ]
  },
  {
   "cell_type": "code",
   "execution_count": 1,
   "id": "5c116311",
   "metadata": {},
   "outputs": [],
   "source": [
    "# !pip install xgboost\n",
    "# !pip install catboost\n",
    "# !pip install scikit-optimize\n",
    "# !pip install category_encoders\n",
    "# !pip install bayesian-optimization"
   ]
  },
  {
   "cell_type": "markdown",
   "id": "0047ce9c",
   "metadata": {},
   "source": [
    "## Importing Libraries"
   ]
  },
  {
   "cell_type": "code",
   "execution_count": 2,
   "id": "1d05110a-8f31-4911-9259-34cf2daf1051",
   "metadata": {},
   "outputs": [],
   "source": [
    "import time\n",
    "import pickle\n",
    "import numpy as np\n",
    "import pandas as pd\n",
    "import xgboost as xgb\n",
    "import category_encoders as ce\n",
    "import matplotlib.pyplot as plt\n",
    "from skopt import BayesSearchCV\n",
    "from catboost import CatBoostClassifier\n",
    "from bayes_opt import BayesianOptimization\n",
    "from sklearn.metrics import accuracy_score\n",
    "from sklearn.feature_selection import mutual_info_classif\n",
    "from sklearn.model_selection import GridSearchCV, RandomizedSearchCV\n",
    "from sklearn.model_selection import train_test_split, cross_val_score\n",
    "from sklearn.metrics import accuracy_score, precision_score, recall_score, f1_score, roc_curve, roc_auc_score"
   ]
  },
  {
   "cell_type": "markdown",
   "id": "15359d5d",
   "metadata": {},
   "source": [
    "## Loading Data"
   ]
  },
  {
   "cell_type": "markdown",
   "id": "f74f81e9",
   "metadata": {},
   "source": [
    "First, we load the dataset and split it into a training and testing sets."
   ]
  },
  {
   "cell_type": "code",
   "execution_count": 3,
   "id": "805d42a1-d371-4109-b8cd-8543672032ef",
   "metadata": {},
   "outputs": [],
   "source": [
    "#Loading Dataset\n",
    "file_path = '../../league_of_legends.csv'\n",
    "df = pd.read_csv(file_path)\n",
    "\n",
    "#Splitting into training and testing sets\n",
    "train_df, test_df = train_test_split(df, test_size=0.1, random_state=42)"
   ]
  },
  {
   "cell_type": "markdown",
   "id": "ec5d8d90",
   "metadata": {},
   "source": [
    "## Data Preprocessing"
   ]
  },
  {
   "cell_type": "markdown",
   "id": "9e880212",
   "metadata": {},
   "source": [
    "We preprocess the data using One-Hot Encoding and Target Encoding.\n",
    "\n",
    "One-Hot Encoding the low cardinality variables, namely, 'League',  'Season' and 'Type'."
   ]
  },
  {
   "cell_type": "code",
   "execution_count": 4,
   "id": "e9bf71a1-b043-48b1-9fe0-19617b476c32",
   "metadata": {},
   "outputs": [],
   "source": [
    "# One-Hot Encoding\n",
    "train_df_onehot = pd.get_dummies(train_df, columns=['League', 'Season', 'Type'])\n",
    "test_df_onehot = pd.get_dummies(test_df, columns=['League', 'Season', 'Type'])\n",
    "missing_cols = set(train_df_onehot.columns) - set(test_df_onehot.columns)\n",
    "\n",
    "# Handling missing columns\n",
    "for c in missing_cols:\n",
    "    test_df_onehot[c] = 0\n",
    "test_df_onehot = test_df_onehot[train_df_onehot.columns]"
   ]
  },
  {
   "cell_type": "markdown",
   "id": "7c3ea005",
   "metadata": {},
   "source": [
    "Applying Target Encoding to the high cardinality variables."
   ]
  },
  {
   "cell_type": "code",
   "execution_count": 5,
   "id": "b1d15a5c-9c85-45a2-b4ff-f6420f99757a",
   "metadata": {},
   "outputs": [],
   "source": [
    "# Target Encoding\n",
    "target_cols = [\n",
    "    'blueTop', 'blueJungle', 'blueMiddle', 'blueADC', 'blueSupport',\n",
    "    'redTop', 'redJungle', 'redMiddle', 'redADC', 'redSupport',\n",
    "    'blueTopChamp', 'blueJungleChamp', 'blueMiddleChamp', 'blueADCChamp', 'blueSupportChamp',\n",
    "    'redTopChamp', 'redJungleChamp', 'redMiddleChamp', 'redADCChamp', 'redSupportChamp',\n",
    "    'blueTeamTag', 'redTeamTag'\n",
    "]\n",
    "target_variable = 'bResult'\n",
    "encoder = ce.TargetEncoder(cols=target_cols)\n",
    "encoder.fit(train_df, train_df[target_variable])\n",
    "train_df_target_encoded = encoder.transform(train_df)\n",
    "test_df_target_encoded = encoder.transform(test_df)"
   ]
  },
  {
   "cell_type": "markdown",
   "id": "fc625dd7",
   "metadata": {},
   "source": [
    "Combining the One-Hot and Target Encoded Dataframes for training and testing sets."
   ]
  },
  {
   "cell_type": "code",
   "execution_count": 6,
   "id": "82230523",
   "metadata": {},
   "outputs": [],
   "source": [
    "# Removing Target Encoded Columns from One-Hot Encoded DataFrame\n",
    "train_df_onehot = train_df_onehot.drop(columns=target_cols, axis=1)\n",
    "test_df_onehot = test_df_onehot.drop(columns=target_cols, axis=1)\n",
    "\n",
    "# Concatenating One-Hot and Target Encoded DataFrames:\n",
    "train_df_encoded = pd.concat([train_df_onehot, train_df_target_encoded[target_cols]], axis=1)\n",
    "test_df_encoded = pd.concat([test_df_onehot, test_df_target_encoded[target_cols]], axis=1)"
   ]
  },
  {
   "cell_type": "markdown",
   "id": "300a6a7e",
   "metadata": {},
   "source": [
    "## Feature Selection"
   ]
  },
  {
   "cell_type": "markdown",
   "id": "d69eee13",
   "metadata": {},
   "source": [
    "We perform feature selection using averaged importance scores from mutual information and CatBoost."
   ]
  },
  {
   "cell_type": "code",
   "execution_count": 7,
   "id": "02b642cb-827d-4dd7-9ace-76c6d0fc61ef",
   "metadata": {},
   "outputs": [],
   "source": [
    "# Separate features and target variable\n",
    "X_train = train_df_encoded.drop([target_variable], axis=1)\n",
    "y_train = train_df_encoded[target_variable]\n",
    "\n",
    "# Calculate Mutual Information scores\n",
    "mi_scores = mutual_info_classif(X_train, y_train)\n",
    "mi_scores = pd.Series(mi_scores, name='MI_Scores', index=X_train.columns)\n",
    "\n",
    "# CatBoost Importance\n",
    "catboost_model = CatBoostClassifier(iterations=100, verbose=0)\n",
    "catboost_model.fit(X_train, y_train)\n",
    "catboost_importances = pd.Series(catboost_model.get_feature_importance(), name='CatBoost_Importance', index=X_train.columns)\n",
    "\n",
    "# Combine and Normalize\n",
    "importance_df = pd.concat([mi_scores, catboost_importances], axis=1)\n",
    "importance_df['MI_Scores'] = (importance_df['MI_Scores'] - importance_df['MI_Scores'].min()) / (importance_df['MI_Scores'].max() - importance_df['MI_Scores'].min())\n",
    "importance_df['CatBoost_Importance'] = (importance_df['CatBoost_Importance'] - importance_df['CatBoost_Importance'].min()) / (importance_df['CatBoost_Importance'].max() - importance_df['CatBoost_Importance'].min())\n",
    "importance_df['Combined_Importance'] = (importance_df['MI_Scores'] + importance_df['CatBoost_Importance']) / 2\n",
    "\n",
    "# Sort and Select Features\n",
    "sorted_features = importance_df.sort_values(by='Combined_Importance', ascending=False).index\n",
    "N = 22\n",
    "selected_features = sorted_features[:N]\n",
    "X_train_selected = X_train[selected_features]\n",
    "X_test_selected = test_df_encoded.drop([target_variable], axis=1)[selected_features]"
   ]
  },
  {
   "cell_type": "markdown",
   "id": "e4ea30ff",
   "metadata": {},
   "source": [
    "## Hyperparameter Tuning"
   ]
  },
  {
   "cell_type": "markdown",
   "id": "66c661b8",
   "metadata": {},
   "source": [
    "We use three methods for hyperparameter tuning: Grid Search, Randomized Search, and Bayesian Optimization."
   ]
  },
  {
   "cell_type": "code",
   "execution_count": 8,
   "id": "bfccd008",
   "metadata": {},
   "outputs": [],
   "source": [
    "# Training the model to prepare for Hyperparameter Tuning\n",
    "def train_evaluate_xgb(params):\n",
    "    xgb_clf = xgb.XGBClassifier(\n",
    "        learning_rate=params['learning_rate'],\n",
    "        max_depth=int(params['max_depth']),\n",
    "        n_estimators=int(params['n_estimators']),\n",
    "        subsample=params['subsample'],\n",
    "        colsample_bytree=params['colsample_bytree'],\n",
    "        random_state=42\n",
    "    )\n",
    "    xgb_clf.fit(X_train_selected, y_train)\n",
    "    y_pred = xgb_clf.predict(X_test_selected)\n",
    "    return accuracy_score(y_test, y_pred)"
   ]
  },
  {
   "cell_type": "code",
   "execution_count": 9,
   "id": "2bbd349a",
   "metadata": {},
   "outputs": [],
   "source": [
    "# Grid Search\n",
    "param_grid = {\n",
    "    'learning_rate': [0.01, 0.1, 0.2],\n",
    "    'max_depth': [2, 3, 4],\n",
    "    'n_estimators': [100, 200, 300],\n",
    "    'subsample': [0.7, 0.8, 0.9],\n",
    "    'colsample_bytree': [0.7, 0.8, 0.9]\n",
    "}\n",
    "\n",
    "grid_search = GridSearchCV(xgb.XGBClassifier(random_state=42), param_grid, cv=5, scoring='accuracy')\n",
    "grid_search.fit(X_train_selected, y_train)\n",
    "grid_best_params = grid_search.best_params_\n",
    "grid_best_accuracy = grid_search.best_score_"
   ]
  },
  {
   "cell_type": "code",
   "execution_count": 10,
   "id": "e3d2009e",
   "metadata": {},
   "outputs": [],
   "source": [
    "# Randomized Search\n",
    "param_dist = {\n",
    "    'learning_rate': [0.01, 0.1, 0.2],\n",
    "    'max_depth': [2, 3, 4],\n",
    "    'n_estimators': [100, 200, 300],\n",
    "    'subsample': [0.7, 0.8, 0.9],\n",
    "    'colsample_bytree': [0.7, 0.8, 0.9]\n",
    "}\n",
    "\n",
    "random_search = RandomizedSearchCV(xgb.XGBClassifier(random_state=42), param_dist, n_iter=20, cv=5, scoring='accuracy')\n",
    "random_search.fit(X_train_selected, y_train)\n",
    "random_best_params = random_search.best_params_\n",
    "random_best_accuracy = random_search.best_score_"
   ]
  },
  {
   "cell_type": "code",
   "execution_count": 11,
   "id": "d8fb042e",
   "metadata": {},
   "outputs": [
    {
     "name": "stdout",
     "output_type": "stream",
     "text": [
      "|   iter    |  target   | colsam... | learni... | max_depth | n_esti... | subsample |\n",
      "-------------------------------------------------------------------------------------\n",
      "| \u001b[0m1        \u001b[0m | \u001b[0m0.6385   \u001b[0m | \u001b[0m0.7749   \u001b[0m | \u001b[0m0.1906   \u001b[0m | \u001b[0m3.464    \u001b[0m | \u001b[0m219.7    \u001b[0m | \u001b[0m0.7312   \u001b[0m |\n",
      "| \u001b[0m2        \u001b[0m | \u001b[0m0.6385   \u001b[0m | \u001b[0m0.7312   \u001b[0m | \u001b[0m0.02104  \u001b[0m | \u001b[0m3.732    \u001b[0m | \u001b[0m220.2    \u001b[0m | \u001b[0m0.8416   \u001b[0m |\n",
      "| \u001b[0m3        \u001b[0m | \u001b[0m0.6332   \u001b[0m | \u001b[0m0.7041   \u001b[0m | \u001b[0m0.1943   \u001b[0m | \u001b[0m3.665    \u001b[0m | \u001b[0m142.5    \u001b[0m | \u001b[0m0.7364   \u001b[0m |\n",
      "| \u001b[95m4        \u001b[0m | \u001b[95m0.6464   \u001b[0m | \u001b[95m0.7367   \u001b[0m | \u001b[95m0.06781  \u001b[0m | \u001b[95m3.05     \u001b[0m | \u001b[95m186.4    \u001b[0m | \u001b[95m0.7582   \u001b[0m |\n",
      "| \u001b[0m5        \u001b[0m | \u001b[0m0.6372   \u001b[0m | \u001b[0m0.8224   \u001b[0m | \u001b[0m0.0365   \u001b[0m | \u001b[0m2.584    \u001b[0m | \u001b[0m173.3    \u001b[0m | \u001b[0m0.7912   \u001b[0m |\n",
      "| \u001b[0m6        \u001b[0m | \u001b[0m0.6425   \u001b[0m | \u001b[0m0.8789   \u001b[0m | \u001b[0m0.01221  \u001b[0m | \u001b[0m3.932    \u001b[0m | \u001b[0m194.7    \u001b[0m | \u001b[0m0.8596   \u001b[0m |\n",
      "| \u001b[0m7        \u001b[0m | \u001b[0m0.624    \u001b[0m | \u001b[0m0.8077   \u001b[0m | \u001b[0m0.1091   \u001b[0m | \u001b[0m3.42     \u001b[0m | \u001b[0m300.0    \u001b[0m | \u001b[0m0.8296   \u001b[0m |\n",
      "| \u001b[0m8        \u001b[0m | \u001b[0m0.6201   \u001b[0m | \u001b[0m0.9      \u001b[0m | \u001b[0m0.01     \u001b[0m | \u001b[0m2.0      \u001b[0m | \u001b[0m100.0    \u001b[0m | \u001b[0m0.765    \u001b[0m |\n",
      "| \u001b[95m9        \u001b[0m | \u001b[95m0.657    \u001b[0m | \u001b[95m0.8716   \u001b[0m | \u001b[95m0.1867   \u001b[0m | \u001b[95m2.013    \u001b[0m | \u001b[95m251.5    \u001b[0m | \u001b[95m0.8534   \u001b[0m |\n",
      "| \u001b[0m10       \u001b[0m | \u001b[0m0.6385   \u001b[0m | \u001b[0m0.7      \u001b[0m | \u001b[0m0.01     \u001b[0m | \u001b[0m4.0      \u001b[0m | \u001b[0m264.1    \u001b[0m | \u001b[0m0.7      \u001b[0m |\n",
      "| \u001b[0m11       \u001b[0m | \u001b[0m0.6491   \u001b[0m | \u001b[0m0.7677   \u001b[0m | \u001b[0m0.06361  \u001b[0m | \u001b[0m2.024    \u001b[0m | \u001b[0m241.9    \u001b[0m | \u001b[0m0.8473   \u001b[0m |\n",
      "| \u001b[0m12       \u001b[0m | \u001b[0m0.6346   \u001b[0m | \u001b[0m0.7255   \u001b[0m | \u001b[0m0.1937   \u001b[0m | \u001b[0m3.937    \u001b[0m | \u001b[0m249.2    \u001b[0m | \u001b[0m0.8837   \u001b[0m |\n",
      "| \u001b[0m13       \u001b[0m | \u001b[0m0.6557   \u001b[0m | \u001b[0m0.9      \u001b[0m | \u001b[0m0.1996   \u001b[0m | \u001b[0m2.0      \u001b[0m | \u001b[0m253.0    \u001b[0m | \u001b[0m0.8986   \u001b[0m |\n",
      "| \u001b[0m14       \u001b[0m | \u001b[0m0.6372   \u001b[0m | \u001b[0m0.9      \u001b[0m | \u001b[0m0.01     \u001b[0m | \u001b[0m4.0      \u001b[0m | \u001b[0m253.0    \u001b[0m | \u001b[0m0.7      \u001b[0m |\n",
      "| \u001b[0m15       \u001b[0m | \u001b[0m0.6438   \u001b[0m | \u001b[0m0.8087   \u001b[0m | \u001b[0m0.1117   \u001b[0m | \u001b[0m2.047    \u001b[0m | \u001b[0m239.4    \u001b[0m | \u001b[0m0.8067   \u001b[0m |\n",
      "| \u001b[0m16       \u001b[0m | \u001b[0m0.6121   \u001b[0m | \u001b[0m0.9      \u001b[0m | \u001b[0m0.2      \u001b[0m | \u001b[0m4.0      \u001b[0m | \u001b[0m243.4    \u001b[0m | \u001b[0m0.7      \u001b[0m |\n",
      "| \u001b[0m17       \u001b[0m | \u001b[0m0.6491   \u001b[0m | \u001b[0m0.7409   \u001b[0m | \u001b[0m0.1082   \u001b[0m | \u001b[0m2.53     \u001b[0m | \u001b[0m252.1    \u001b[0m | \u001b[0m0.8468   \u001b[0m |\n",
      "| \u001b[0m18       \u001b[0m | \u001b[0m0.6398   \u001b[0m | \u001b[0m0.782    \u001b[0m | \u001b[0m0.06365  \u001b[0m | \u001b[0m2.041    \u001b[0m | \u001b[0m254.4    \u001b[0m | \u001b[0m0.7821   \u001b[0m |\n",
      "| \u001b[0m19       \u001b[0m | \u001b[0m0.6412   \u001b[0m | \u001b[0m0.7228   \u001b[0m | \u001b[0m0.05094  \u001b[0m | \u001b[0m2.04     \u001b[0m | \u001b[0m250.4    \u001b[0m | \u001b[0m0.8824   \u001b[0m |\n",
      "| \u001b[0m20       \u001b[0m | \u001b[0m0.6398   \u001b[0m | \u001b[0m0.7      \u001b[0m | \u001b[0m0.2      \u001b[0m | \u001b[0m2.0      \u001b[0m | \u001b[0m240.8    \u001b[0m | \u001b[0m0.7      \u001b[0m |\n",
      "=====================================================================================\n"
     ]
    }
   ],
   "source": [
    "# Bayesian Optimization\n",
    "y_test = test_df_encoded[target_variable]\n",
    "\n",
    "def xgb_bayesian(learning_rate, max_depth, n_estimators, subsample, colsample_bytree):\n",
    "    params = {\n",
    "        'learning_rate': learning_rate,\n",
    "        'max_depth': max_depth,\n",
    "        'n_estimators': n_estimators,\n",
    "        'subsample': subsample,\n",
    "        'colsample_bytree': colsample_bytree\n",
    "    }\n",
    "    return train_evaluate_xgb(params)\n",
    "\n",
    "optimizer = BayesianOptimization(\n",
    "    f=xgb_bayesian,\n",
    "    pbounds={\n",
    "        'learning_rate': (0.01, 0.2),\n",
    "        'max_depth': (2, 4),\n",
    "        'n_estimators': (100, 300),\n",
    "        'subsample': (0.7, 0.9),\n",
    "        'colsample_bytree': (0.7, 0.9)\n",
    "    },\n",
    "    random_state=42\n",
    ")\n",
    "\n",
    "optimizer.maximize(init_points=5, n_iter=15)\n",
    "bayesian_best_params = optimizer.max['params']\n",
    "bayesian_best_accuracy = optimizer.max['target']"
   ]
  },
  {
   "cell_type": "markdown",
   "id": "2e4c9c4d",
   "metadata": {},
   "source": [
    "## Evaluating Models"
   ]
  },
  {
   "cell_type": "markdown",
   "id": "5c17f4dd",
   "metadata": {},
   "source": [
    "After hyperparameter tuning, we evaluate the best models from each method on the test data."
   ]
  },
  {
   "cell_type": "code",
   "execution_count": 12,
   "id": "0e315eac",
   "metadata": {},
   "outputs": [],
   "source": [
    "def train_evaluate(params, X_train, y_train, X_test, y_test, method):\n",
    "    for param_name in ['max_depth', 'n_estimators']:\n",
    "        if param_name in params:\n",
    "            params[param_name] = int(params[param_name])\n",
    "    \n",
    "    # Training the model and recording training time\n",
    "    xgb_clf = xgb.XGBClassifier(random_state=42, **params)\n",
    "    start_train_time = time.time()\n",
    "    xgb_clf.fit(X_train, y_train)\n",
    "    end_train_time = time.time()  \n",
    "    \n",
    "    # Testing the model and recording prediction time\n",
    "    start_test_time = time.time()  \n",
    "    y_pred = xgb_clf.predict(X_test)\n",
    "    y_prob = xgb_clf.predict_proba(X_test)[:, 1]\n",
    "    end_test_time = time.time()  \n",
    "    \n",
    "    # Calculating the metrics\n",
    "    test_accuracy = accuracy_score(y_test, y_pred)\n",
    "    test_precision = precision_score(y_test, y_pred)\n",
    "    test_recall = recall_score(y_test, y_pred)\n",
    "    test_f1 = f1_score(y_test, y_pred)\n",
    "    train_time = end_train_time - start_train_time\n",
    "    test_time = end_test_time - start_test_time\n",
    "    \n",
    "    # Creating the results dataframe\n",
    "    results_df = pd.DataFrame({\n",
    "        'Method': [method],\n",
    "        'Accuracy': [test_accuracy],\n",
    "        'Precision': [test_precision],\n",
    "        'Recall': [test_recall],\n",
    "        'F1-Score': [test_f1],\n",
    "        'Training Time (s)': [train_time],  \n",
    "        'Prediction Time (s)': [test_time]     \n",
    "    })\n",
    "    return results_df"
   ]
  },
  {
   "cell_type": "code",
   "execution_count": 13,
   "id": "1b074243",
   "metadata": {},
   "outputs": [],
   "source": [
    "# Prepare the test data\n",
    "X_test_selected = test_df_encoded.drop([target_variable], axis=1)[selected_features]\n",
    "y_test = test_df_encoded[target_variable]\n",
    "\n",
    "# Convert Bayesian best parameters to correct format\n",
    "bayesian_best_params = {key: int(value) if isinstance(value, float) and value.is_integer() else value for key, value in bayesian_best_params.items()}\n",
    "\n",
    "# Evaluate the model using best parameters from each method\n",
    "results_grid = train_evaluate(grid_best_params, X_train_selected, y_train, X_test_selected, y_test, 'Grid Search')\n",
    "results_random = train_evaluate(random_best_params, X_train_selected, y_train, X_test_selected, y_test, 'Random Search')\n",
    "results_bayesian = train_evaluate(bayesian_best_params, X_train_selected, y_train, X_test_selected, y_test, 'Bayesian Optimization')"
   ]
  },
  {
   "cell_type": "markdown",
   "id": "9f3c518c",
   "metadata": {},
   "source": [
    "## Results Comparison"
   ]
  },
  {
   "cell_type": "markdown",
   "id": "e7669d24",
   "metadata": {},
   "source": [
    "Comparing the performance of the models using the best hyperparameters from Grid Search, Randomized Search, and Bayesian Optimization methods."
   ]
  },
  {
   "cell_type": "code",
   "execution_count": 14,
   "id": "f6c7adde",
   "metadata": {},
   "outputs": [
    {
     "name": "stdout",
     "output_type": "stream",
     "text": [
      "Grid Search - Best Params: {'colsample_bytree': 0.7, 'learning_rate': 0.1, 'max_depth': 3, 'n_estimators': 200, 'subsample': 0.8}, Best Accuracy: 0.7169439162987551\n",
      "Random Search - Best Params: {'subsample': 0.8, 'n_estimators': 300, 'max_depth': 2, 'learning_rate': 0.1, 'colsample_bytree': 0.9}, Best Accuracy: 0.7140121169153427\n",
      "Bayesian Optimization - Best Params: {'colsample_bytree': 0.8716002139300233, 'learning_rate': 0.18670599405725474, 'max_depth': 2, 'n_estimators': 251, 'subsample': 0.8533695880915422}, Best Accuracy: 0.6569920844327177\n",
      "                  Method  Accuracy  Precision    Recall  F1-Score  \\\n",
      "0            Grid Search  0.663588   0.686230  0.723810  0.704519   \n",
      "1          Random Search  0.645119   0.669663  0.709524  0.689017   \n",
      "2  Bayesian Optimization  0.656992   0.678571  0.723810  0.700461   \n",
      "\n",
      "   Training Time (s)  Prediction Time (s)  \n",
      "0           0.180879             0.006434  \n",
      "1           0.218117             0.010000  \n",
      "2           0.180362             0.010000  \n"
     ]
    }
   ],
   "source": [
    "# Concatenate the results\n",
    "final_results = pd.concat([results_grid, results_random, results_bayesian], axis=0).reset_index(drop=True)\n",
    "\n",
    "#Best Parameters\n",
    "print(f\"Grid Search - Best Params: {grid_best_params}, Best Accuracy: {grid_best_accuracy}\")\n",
    "print(f\"Random Search - Best Params: {random_best_params}, Best Accuracy: {random_best_accuracy}\")\n",
    "print(f\"Bayesian Optimization - Best Params: {bayesian_best_params}, Best Accuracy: {bayesian_best_accuracy}\")\n",
    "\n",
    "# Display the final results\n",
    "print(final_results)"
   ]
  },
  {
   "cell_type": "code",
   "execution_count": null,
   "id": "df34a31e",
   "metadata": {},
   "outputs": [],
   "source": []
  }
 ],
 "metadata": {
  "kernelspec": {
   "display_name": "Python 3 (ipykernel)",
   "language": "python",
   "name": "python3"
  },
  "language_info": {
   "codemirror_mode": {
    "name": "ipython",
    "version": 3
   },
   "file_extension": ".py",
   "mimetype": "text/x-python",
   "name": "python",
   "nbconvert_exporter": "python",
   "pygments_lexer": "ipython3",
   "version": "3.10.9"
  }
 },
 "nbformat": 4,
 "nbformat_minor": 5
}
