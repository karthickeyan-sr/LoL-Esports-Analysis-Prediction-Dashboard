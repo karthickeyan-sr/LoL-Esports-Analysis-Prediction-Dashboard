{
 "cells": [
  {
   "cell_type": "markdown",
   "id": "9608de6d",
   "metadata": {},
   "source": [
    "# Hyperparameter Tuning for SVM Linear Model"
   ]
  },
  {
   "cell_type": "markdown",
   "id": "0ec70824",
   "metadata": {},
   "source": [
    "## Introduction"
   ]
  },
  {
   "cell_type": "markdown",
   "id": "74643ddd",
   "metadata": {},
   "source": [
    "This notebook aims to optimize the performance of the Support vector machines linear model applied to the League of Legends matches dataset. We will compare different hyperparameter tuning methods: Grid Search, Randomized Search, and Bayesian Optimization."
   ]
  },
  {
   "cell_type": "markdown",
   "id": "6f344642",
   "metadata": {},
   "source": [
    "## Installing Prerequisites\n"
   ]
  },
  {
   "cell_type": "code",
   "execution_count": 1,
   "id": "5c116311",
   "metadata": {},
   "outputs": [],
   "source": [
    "# !pip install catboost\n",
    "# !pip install scikit-optimize\n",
    "# !pip install category_encoders\n",
    "# !pip install bayesian-optimization"
   ]
  },
  {
   "cell_type": "markdown",
   "id": "0047ce9c",
   "metadata": {},
   "source": [
    "## Importing Libraries"
   ]
  },
  {
   "cell_type": "code",
   "execution_count": 2,
   "id": "1d05110a-8f31-4911-9259-34cf2daf1051",
   "metadata": {},
   "outputs": [],
   "source": [
    "import time\n",
    "import pickle\n",
    "import numpy as np\n",
    "import pandas as pd\n",
    "from sklearn.svm import SVC\n",
    "import category_encoders as ce\n",
    "import matplotlib.pyplot as plt\n",
    "from skopt import BayesSearchCV\n",
    "from catboost import CatBoostClassifier\n",
    "from bayes_opt import BayesianOptimization\n",
    "from sklearn.metrics import accuracy_score\n",
    "from sklearn.feature_selection import mutual_info_classif\n",
    "from sklearn.model_selection import GridSearchCV, RandomizedSearchCV\n",
    "from sklearn.model_selection import train_test_split, cross_val_score\n",
    "from sklearn.metrics import accuracy_score, precision_score, recall_score, f1_score, roc_curve, roc_auc_score"
   ]
  },
  {
   "cell_type": "markdown",
   "id": "15359d5d",
   "metadata": {},
   "source": [
    "## Loading Data"
   ]
  },
  {
   "cell_type": "markdown",
   "id": "f74f81e9",
   "metadata": {},
   "source": [
    "First, we load the dataset and split it into a training and testing sets."
   ]
  },
  {
   "cell_type": "code",
   "execution_count": 3,
   "id": "805d42a1-d371-4109-b8cd-8543672032ef",
   "metadata": {},
   "outputs": [],
   "source": [
    "#Loading Dataset\n",
    "file_path = '../../sentiment_scores.csv'\n",
    "df = pd.read_csv(file_path)\n",
    "\n",
    "#Splitting into training and testing sets\n",
    "train_df, test_df = train_test_split(df, test_size=0.1, random_state=42)"
   ]
  },
  {
   "cell_type": "markdown",
   "id": "ec5d8d90",
   "metadata": {},
   "source": [
    "## Data Preprocessing"
   ]
  },
  {
   "cell_type": "markdown",
   "id": "9e880212",
   "metadata": {},
   "source": [
    "We preprocess the data using One-Hot Encoding and Target Encoding.\n",
    "\n",
    "One-Hot Encoding the low cardinality variables, namely, 'League',  'Season' and 'Type'."
   ]
  },
  {
   "cell_type": "code",
   "execution_count": 4,
   "id": "e9bf71a1-b043-48b1-9fe0-19617b476c32",
   "metadata": {},
   "outputs": [],
   "source": [
    "# One-Hot Encoding\n",
    "train_df_onehot = pd.get_dummies(train_df, columns=['League', 'Season', 'Type'])\n",
    "test_df_onehot = pd.get_dummies(test_df, columns=['League', 'Season', 'Type'])\n",
    "missing_cols = set(train_df_onehot.columns) - set(test_df_onehot.columns)\n",
    "\n",
    "# Handling missing columns\n",
    "for c in missing_cols:\n",
    "    test_df_onehot[c] = 0\n",
    "test_df_onehot = test_df_onehot[train_df_onehot.columns]"
   ]
  },
  {
   "cell_type": "markdown",
   "id": "7c3ea005",
   "metadata": {},
   "source": [
    "Applying Target Encoding to the high cardinality variables."
   ]
  },
  {
   "cell_type": "code",
   "execution_count": 5,
   "id": "b1d15a5c-9c85-45a2-b4ff-f6420f99757a",
   "metadata": {},
   "outputs": [],
   "source": [
    "# Target Encoding\n",
    "target_cols = [\n",
    "    'blueTop', 'blueJungle', 'blueMiddle', 'blueADC', 'blueSupport',\n",
    "    'redTop', 'redJungle', 'redMiddle', 'redADC', 'redSupport',\n",
    "    'blueTopChamp', 'blueJungleChamp', 'blueMiddleChamp', 'blueADCChamp', 'blueSupportChamp',\n",
    "    'redTopChamp', 'redJungleChamp', 'redMiddleChamp', 'redADCChamp', 'redSupportChamp',\n",
    "    'blueTeamTag', 'redTeamTag'\n",
    "]\n",
    "target_variable = 'bResult'\n",
    "encoder = ce.TargetEncoder(cols=target_cols)\n",
    "encoder.fit(train_df, train_df[target_variable])\n",
    "train_df_target_encoded = encoder.transform(train_df)\n",
    "test_df_target_encoded = encoder.transform(test_df)"
   ]
  },
  {
   "cell_type": "markdown",
   "id": "fc625dd7",
   "metadata": {},
   "source": [
    "Combining the One-Hot and Target Encoded Dataframes for training and testing sets."
   ]
  },
  {
   "cell_type": "code",
   "execution_count": 6,
   "id": "82230523",
   "metadata": {},
   "outputs": [],
   "source": [
    "# Removing Target Encoded Columns from One-Hot Encoded DataFrame\n",
    "train_df_onehot = train_df_onehot.drop(columns=target_cols, axis=1)\n",
    "test_df_onehot = test_df_onehot.drop(columns=target_cols, axis=1)\n",
    "\n",
    "# Concatenating One-Hot and Target Encoded DataFrames:\n",
    "train_df_encoded = pd.concat([train_df_onehot, train_df_target_encoded[target_cols]], axis=1)\n",
    "test_df_encoded = pd.concat([test_df_onehot, test_df_target_encoded[target_cols]], axis=1)"
   ]
  },
  {
   "cell_type": "markdown",
   "id": "300a6a7e",
   "metadata": {},
   "source": [
    "## Feature Selection"
   ]
  },
  {
   "cell_type": "markdown",
   "id": "d69eee13",
   "metadata": {},
   "source": [
    "We perform feature selection using averaged importance scores from mutual information and CatBoost."
   ]
  },
  {
   "cell_type": "code",
   "execution_count": 7,
   "id": "02b642cb-827d-4dd7-9ace-76c6d0fc61ef",
   "metadata": {},
   "outputs": [],
   "source": [
    "# Separate features and target variable\n",
    "X_train = train_df_encoded.drop([target_variable], axis=1)\n",
    "y_train = train_df_encoded[target_variable]\n",
    "\n",
    "# Calculate Mutual Information scores\n",
    "mi_scores = mutual_info_classif(X_train, y_train)\n",
    "mi_scores = pd.Series(mi_scores, name='MI_Scores', index=X_train.columns)\n",
    "\n",
    "# CatBoost Importance\n",
    "catboost_model = CatBoostClassifier(iterations=100, verbose=0)\n",
    "catboost_model.fit(X_train, y_train)\n",
    "catboost_importances = pd.Series(catboost_model.get_feature_importance(), name='CatBoost_Importance', index=X_train.columns)\n",
    "\n",
    "# Combine and Normalize\n",
    "importance_df = pd.concat([mi_scores, catboost_importances], axis=1)\n",
    "importance_df['MI_Scores'] = (importance_df['MI_Scores'] - importance_df['MI_Scores'].min()) / (importance_df['MI_Scores'].max() - importance_df['MI_Scores'].min())\n",
    "importance_df['CatBoost_Importance'] = (importance_df['CatBoost_Importance'] - importance_df['CatBoost_Importance'].min()) / (importance_df['CatBoost_Importance'].max() - importance_df['CatBoost_Importance'].min())\n",
    "importance_df['Combined_Importance'] = (importance_df['MI_Scores'] + importance_df['CatBoost_Importance']) / 2\n",
    "\n",
    "# Sort and Select Features\n",
    "sorted_features = importance_df.sort_values(by='Combined_Importance', ascending=False).index\n",
    "N = 22\n",
    "selected_features = sorted_features[:N]\n",
    "X_train_selected = X_train[selected_features]\n",
    "X_test_selected = test_df_encoded.drop([target_variable], axis=1)[selected_features]"
   ]
  },
  {
   "cell_type": "markdown",
   "id": "e4ea30ff",
   "metadata": {},
   "source": [
    "## Hyperparameter Tuning"
   ]
  },
  {
   "cell_type": "markdown",
   "id": "66c661b8",
   "metadata": {},
   "source": [
    "We use three methods for hyperparameter tuning: Grid Search, Randomized Search, and Bayesian Optimization."
   ]
  },
  {
   "cell_type": "code",
   "execution_count": 8,
   "id": "bfccd008",
   "metadata": {},
   "outputs": [],
   "source": [
    "# Training the model to prepare for Hyperparameter Tuning\n",
    "def train_evaluate_svm(params):\n",
    "    svm_clf = SVC(\n",
    "        C=params['C'],\n",
    "        kernel='linear',\n",
    "        random_state=42\n",
    "    )\n",
    "    svm_clf.fit(X_train_selected, y_train)\n",
    "    y_pred = svm_clf.predict(X_test_selected)\n",
    "    return accuracy_score(y_test, y_pred)\n",
    "\n",
    "# Grid Search\n",
    "param_grid = {\n",
    "    'C': [0.1, 1, 10, 100]\n",
    "}"
   ]
  },
  {
   "cell_type": "code",
   "execution_count": 9,
   "id": "2bbd349a",
   "metadata": {},
   "outputs": [],
   "source": [
    "# Grid Search\n",
    "param_grid = {\n",
    "    'C': [0.1, 1, 10, 100]\n",
    "}\n",
    "\n",
    "grid_search = GridSearchCV(SVC(kernel='linear', random_state=42), param_grid, cv=5, scoring='accuracy')\n",
    "grid_search.fit(X_train_selected, y_train)\n",
    "grid_best_params = grid_search.best_params_\n",
    "grid_best_accuracy = grid_search.best_score_"
   ]
  },
  {
   "cell_type": "code",
   "execution_count": 10,
   "id": "e3d2009e",
   "metadata": {},
   "outputs": [],
   "source": [
    "# Randomized Search\n",
    "param_dist = {\n",
    "    'C': [0.1, 1, 10, 100]\n",
    "}\n",
    "\n",
    "random_search = RandomizedSearchCV(SVC(kernel='linear', random_state=42), param_dist, n_iter=4, cv=5, scoring='accuracy')\n",
    "random_search.fit(X_train_selected, y_train)\n",
    "random_best_params = random_search.best_params_\n",
    "random_best_accuracy = random_search.best_score_"
   ]
  },
  {
   "cell_type": "code",
   "execution_count": 11,
   "id": "d8fb042e",
   "metadata": {},
   "outputs": [
    {
     "name": "stdout",
     "output_type": "stream",
     "text": [
      "|   iter    |  target   |     C     |\n",
      "-------------------------------------\n",
      "| \u001b[0m1        \u001b[0m | \u001b[0m0.6438   \u001b[0m | \u001b[0m37.52    \u001b[0m |\n",
      "| \u001b[95m2        \u001b[0m | \u001b[95m0.6451   \u001b[0m | \u001b[95m95.08    \u001b[0m |\n",
      "| \u001b[0m3        \u001b[0m | \u001b[0m0.6451   \u001b[0m | \u001b[0m73.23    \u001b[0m |\n",
      "| \u001b[0m4        \u001b[0m | \u001b[0m0.6451   \u001b[0m | \u001b[0m59.91    \u001b[0m |\n",
      "| \u001b[95m5        \u001b[0m | \u001b[95m0.6478   \u001b[0m | \u001b[95m15.69    \u001b[0m |\n",
      "| \u001b[0m6        \u001b[0m | \u001b[0m0.6464   \u001b[0m | \u001b[0m12.34    \u001b[0m |\n",
      "| \u001b[0m7        \u001b[0m | \u001b[0m0.6478   \u001b[0m | \u001b[0m19.1     \u001b[0m |\n",
      "| \u001b[0m8        \u001b[0m | \u001b[0m0.6385   \u001b[0m | \u001b[0m0.1      \u001b[0m |\n",
      "| \u001b[0m9        \u001b[0m | \u001b[0m0.6438   \u001b[0m | \u001b[0m84.25    \u001b[0m |\n",
      "| \u001b[0m10       \u001b[0m | \u001b[0m0.6464   \u001b[0m | \u001b[0m49.62    \u001b[0m |\n",
      "| \u001b[0m11       \u001b[0m | \u001b[0m0.6464   \u001b[0m | \u001b[0m26.44    \u001b[0m |\n",
      "| \u001b[0m12       \u001b[0m | \u001b[0m0.6438   \u001b[0m | \u001b[0m100.0    \u001b[0m |\n",
      "| \u001b[0m13       \u001b[0m | \u001b[0m0.6451   \u001b[0m | \u001b[0m53.91    \u001b[0m |\n",
      "| \u001b[0m14       \u001b[0m | \u001b[0m0.6451   \u001b[0m | \u001b[0m66.75    \u001b[0m |\n",
      "| \u001b[0m15       \u001b[0m | \u001b[0m0.6478   \u001b[0m | \u001b[0m22.27    \u001b[0m |\n",
      "| \u001b[0m16       \u001b[0m | \u001b[0m0.6451   \u001b[0m | \u001b[0m44.99    \u001b[0m |\n",
      "| \u001b[0m17       \u001b[0m | \u001b[0m0.6478   \u001b[0m | \u001b[0m17.24    \u001b[0m |\n",
      "| \u001b[0m18       \u001b[0m | \u001b[0m0.6478   \u001b[0m | \u001b[0m20.87    \u001b[0m |\n",
      "| \u001b[0m19       \u001b[0m | \u001b[0m0.6478   \u001b[0m | \u001b[0m16.37    \u001b[0m |\n",
      "| \u001b[0m20       \u001b[0m | \u001b[0m0.6478   \u001b[0m | \u001b[0m21.64    \u001b[0m |\n",
      "=====================================\n"
     ]
    }
   ],
   "source": [
    "# Bayesian Optimization\n",
    "y_test = test_df_encoded[target_variable]\n",
    "\n",
    "\n",
    "def svm_bayesian(C):\n",
    "    params = {\n",
    "        'C': C\n",
    "    }\n",
    "    return train_evaluate_svm(params)\n",
    "\n",
    "optimizer = BayesianOptimization(\n",
    "    f=svm_bayesian,\n",
    "    pbounds={\n",
    "        'C': (0.1, 100)\n",
    "    },\n",
    "    random_state=42\n",
    ")\n",
    "\n",
    "optimizer.maximize(init_points=5, n_iter=15)\n",
    "bayesian_best_params = optimizer.max['params']\n",
    "bayesian_best_accuracy = optimizer.max['target']"
   ]
  },
  {
   "cell_type": "markdown",
   "id": "2e4c9c4d",
   "metadata": {},
   "source": [
    "## Evaluating Models"
   ]
  },
  {
   "cell_type": "markdown",
   "id": "5c17f4dd",
   "metadata": {},
   "source": [
    "After hyperparameter tuning, we evaluate the best models from each method on the test data."
   ]
  },
  {
   "cell_type": "code",
   "execution_count": 12,
   "id": "0e315eac",
   "metadata": {},
   "outputs": [],
   "source": [
    "def train_evaluate(params, X_train, y_train, X_test, y_test, method):\n",
    "    if 'C' in params:\n",
    "        params['C'] = float(params['C'])\n",
    "\n",
    "    # Training the model and recording training time\n",
    "    svm_clf = SVC(kernel='linear', random_state=42, **params)\n",
    "    start_train_time = time.time()\n",
    "    svm_clf.fit(X_train, y_train)\n",
    "    end_train_time = time.time()\n",
    "\n",
    "    # Testing the model and recording prediction time\n",
    "    start_test_time = time.time()\n",
    "    y_pred = svm_clf.predict(X_test)\n",
    "    end_test_time = time.time()\n",
    "\n",
    "    # Calculating the metrics\n",
    "    test_accuracy = accuracy_score(y_test, y_pred)\n",
    "    test_precision = precision_score(y_test, y_pred)\n",
    "    test_recall = recall_score(y_test, y_pred)\n",
    "    test_f1 = f1_score(y_test, y_pred)\n",
    "    train_time = end_train_time - start_train_time\n",
    "    test_time = end_test_time - start_test_time\n",
    "\n",
    "    # Creating the results dataframe\n",
    "    results_df = pd.DataFrame({\n",
    "        'Method': [method],\n",
    "        'Accuracy': [test_accuracy],\n",
    "        'Precision': [test_precision],\n",
    "        'Recall': [test_recall],\n",
    "        'F1-Score': [test_f1],\n",
    "        'Training Time (s)': [train_time],\n",
    "        'Prediction Time (s)': [test_time]\n",
    "    })\n",
    "    return results_df"
   ]
  },
  {
   "cell_type": "code",
   "execution_count": 13,
   "id": "1b074243",
   "metadata": {},
   "outputs": [],
   "source": [
    "# Prepare the test data\n",
    "X_test_selected = test_df_encoded.drop([target_variable], axis=1)[selected_features]\n",
    "y_test = test_df_encoded[target_variable]\n",
    "\n",
    "# Convert Bayesian best parameters to the correct format for SVM\n",
    "bayesian_best_params = {key: float(value) if key == 'C' else value for key, value in bayesian_best_params.items()}\n",
    "\n",
    "# Evaluate the model using best parameters from each method for SVM\n",
    "results_grid_svm = train_evaluate(grid_best_params, X_train_selected, y_train, X_test_selected, y_test, 'Grid Search')\n",
    "results_random_svm = train_evaluate(random_best_params, X_train_selected, y_train, X_test_selected, y_test, 'Random Search')\n",
    "results_bayesian_svm = train_evaluate(bayesian_best_params, X_train_selected, y_train, X_test_selected, y_test, 'Bayesian Optimization')"
   ]
  },
  {
   "cell_type": "markdown",
   "id": "9f3c518c",
   "metadata": {},
   "source": [
    "## Results Comparison"
   ]
  },
  {
   "cell_type": "markdown",
   "id": "e7669d24",
   "metadata": {},
   "source": [
    "Comparing the performance of the models using the best hyperparameters from Grid Search, Randomized Search, and Bayesian Optimization methods."
   ]
  },
  {
   "cell_type": "code",
   "execution_count": 14,
   "id": "f6c7adde",
   "metadata": {},
   "outputs": [
    {
     "name": "stdout",
     "output_type": "stream",
     "text": [
      "Grid Search - Best Params: {'C': 100.0}, Best Accuracy: 0.717823896533574\n",
      "Random Search - Best Params: {'C': 100.0}, Best Accuracy: 0.717823896533574\n",
      "Bayesian Optimization - Best Params: {'C': 15.686262180199408}, Best Accuracy: 0.6477572559366754\n",
      "                  Method  Accuracy  Precision    Recall  F1-Score  \\\n",
      "0            Grid Search  0.643799   0.663755  0.723810  0.692483   \n",
      "1          Random Search  0.643799   0.663755  0.723810  0.692483   \n",
      "2  Bayesian Optimization  0.647757   0.666667  0.728571  0.696246   \n",
      "\n",
      "   Training Time (s)  Prediction Time (s)  \n",
      "0           4.183389             0.140504  \n",
      "1           4.233829             0.170529  \n",
      "2           2.691170             0.169991  \n"
     ]
    }
   ],
   "source": [
    "# Concatenate the results\n",
    "final_results_svm = pd.concat([results_grid_svm, results_random_svm, results_bayesian_svm], axis=0).reset_index(drop=True)\n",
    "\n",
    "# Display Best Parameters and Final Results\n",
    "print(f\"Grid Search - Best Params: {grid_best_params}, Best Accuracy: {grid_best_accuracy}\")\n",
    "print(f\"Random Search - Best Params: {random_best_params}, Best Accuracy: {random_best_accuracy}\")\n",
    "print(f\"Bayesian Optimization - Best Params: {bayesian_best_params}, Best Accuracy: {bayesian_best_accuracy}\")\n",
    "\n",
    "# Display the final results for SVM\n",
    "print(final_results_svm)"
   ]
  },
  {
   "cell_type": "code",
   "execution_count": null,
   "id": "df34a31e",
   "metadata": {},
   "outputs": [],
   "source": []
  }
 ],
 "metadata": {
  "kernelspec": {
   "display_name": "Python 3 (ipykernel)",
   "language": "python",
   "name": "python3"
  },
  "language_info": {
   "codemirror_mode": {
    "name": "ipython",
    "version": 3
   },
   "file_extension": ".py",
   "mimetype": "text/x-python",
   "name": "python",
   "nbconvert_exporter": "python",
   "pygments_lexer": "ipython3",
   "version": "3.10.9"
  }
 },
 "nbformat": 4,
 "nbformat_minor": 5
}
