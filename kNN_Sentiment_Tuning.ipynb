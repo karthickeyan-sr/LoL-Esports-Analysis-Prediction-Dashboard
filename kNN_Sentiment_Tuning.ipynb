{
 "cells": [
  {
   "cell_type": "markdown",
   "id": "9608de6d",
   "metadata": {},
   "source": [
    "# Hyperparameter Tuning for K-Nearest Neighbors Model"
   ]
  },
  {
   "cell_type": "markdown",
   "id": "0ec70824",
   "metadata": {},
   "source": [
    "## Introduction"
   ]
  },
  {
   "cell_type": "markdown",
   "id": "74643ddd",
   "metadata": {},
   "source": [
    "This notebook aims to optimize the performance of the K-Nearest Neighbors Model applied to the League of Legends matches dataset. We will compare different hyperparameter tuning methods: Grid Search, Randomized Search, and Bayesian Optimization."
   ]
  },
  {
   "cell_type": "markdown",
   "id": "6f344642",
   "metadata": {},
   "source": [
    "## Installing Prerequisites\n"
   ]
  },
  {
   "cell_type": "code",
   "execution_count": 1,
   "id": "5c116311",
   "metadata": {},
   "outputs": [],
   "source": [
    "# !pip install catboost\n",
    "# !pip install scikit-optimize\n",
    "# !pip install category_encoders\n",
    "# !pip install bayesian-optimization"
   ]
  },
  {
   "cell_type": "markdown",
   "id": "0047ce9c",
   "metadata": {},
   "source": [
    "## Importing Libraries"
   ]
  },
  {
   "cell_type": "code",
   "execution_count": 2,
   "id": "1d05110a-8f31-4911-9259-34cf2daf1051",
   "metadata": {},
   "outputs": [],
   "source": [
    "import time\n",
    "import pickle\n",
    "import numpy as np\n",
    "import pandas as pd\n",
    "import category_encoders as ce\n",
    "import matplotlib.pyplot as plt\n",
    "from skopt import BayesSearchCV\n",
    "from catboost import CatBoostClassifier\n",
    "from bayes_opt import BayesianOptimization\n",
    "from sklearn.metrics import accuracy_score\n",
    "from sklearn.neighbors import KNeighborsClassifier\n",
    "from sklearn.feature_selection import mutual_info_classif\n",
    "from sklearn.model_selection import GridSearchCV, RandomizedSearchCV\n",
    "from sklearn.model_selection import train_test_split, cross_val_score\n",
    "from sklearn.metrics import accuracy_score, precision_score, recall_score, f1_score, roc_curve, roc_auc_score"
   ]
  },
  {
   "cell_type": "markdown",
   "id": "15359d5d",
   "metadata": {},
   "source": [
    "## Loading Data"
   ]
  },
  {
   "cell_type": "markdown",
   "id": "f74f81e9",
   "metadata": {},
   "source": [
    "First, we load the dataset and split it into a training and testing sets."
   ]
  },
  {
   "cell_type": "code",
   "execution_count": 3,
   "id": "805d42a1-d371-4109-b8cd-8543672032ef",
   "metadata": {},
   "outputs": [],
   "source": [
    "#Loading Dataset\n",
    "file_path = '../../sentiment_scores.csv'\n",
    "df = pd.read_csv(file_path)\n",
    "\n",
    "#Splitting into training and testing sets\n",
    "train_df, test_df = train_test_split(df, test_size=0.1, random_state=42)"
   ]
  },
  {
   "cell_type": "markdown",
   "id": "ec5d8d90",
   "metadata": {},
   "source": [
    "## Data Preprocessing"
   ]
  },
  {
   "cell_type": "markdown",
   "id": "9e880212",
   "metadata": {},
   "source": [
    "We preprocess the data using One-Hot Encoding and Target Encoding.\n",
    "\n",
    "One-Hot Encoding the low cardinality variables, namely, 'League',  'Season' and 'Type'."
   ]
  },
  {
   "cell_type": "code",
   "execution_count": 4,
   "id": "e9bf71a1-b043-48b1-9fe0-19617b476c32",
   "metadata": {},
   "outputs": [],
   "source": [
    "# One-Hot Encoding\n",
    "train_df_onehot = pd.get_dummies(train_df, columns=['League', 'Season', 'Type'])\n",
    "test_df_onehot = pd.get_dummies(test_df, columns=['League', 'Season', 'Type'])\n",
    "missing_cols = set(train_df_onehot.columns) - set(test_df_onehot.columns)\n",
    "\n",
    "# Handling missing columns\n",
    "for c in missing_cols:\n",
    "    test_df_onehot[c] = 0\n",
    "test_df_onehot = test_df_onehot[train_df_onehot.columns]"
   ]
  },
  {
   "cell_type": "markdown",
   "id": "7c3ea005",
   "metadata": {},
   "source": [
    "Applying Target Encoding to the high cardinality variables."
   ]
  },
  {
   "cell_type": "code",
   "execution_count": 5,
   "id": "b1d15a5c-9c85-45a2-b4ff-f6420f99757a",
   "metadata": {},
   "outputs": [],
   "source": [
    "# Target Encoding\n",
    "target_cols = [\n",
    "    'blueTop', 'blueJungle', 'blueMiddle', 'blueADC', 'blueSupport',\n",
    "    'redTop', 'redJungle', 'redMiddle', 'redADC', 'redSupport',\n",
    "    'blueTopChamp', 'blueJungleChamp', 'blueMiddleChamp', 'blueADCChamp', 'blueSupportChamp',\n",
    "    'redTopChamp', 'redJungleChamp', 'redMiddleChamp', 'redADCChamp', 'redSupportChamp',\n",
    "    'blueTeamTag', 'redTeamTag'\n",
    "]\n",
    "target_variable = 'bResult'\n",
    "encoder = ce.TargetEncoder(cols=target_cols)\n",
    "encoder.fit(train_df, train_df[target_variable])\n",
    "train_df_target_encoded = encoder.transform(train_df)\n",
    "test_df_target_encoded = encoder.transform(test_df)"
   ]
  },
  {
   "cell_type": "markdown",
   "id": "fc625dd7",
   "metadata": {},
   "source": [
    "Combining the One-Hot and Target Encoded Dataframes for training and testing sets."
   ]
  },
  {
   "cell_type": "code",
   "execution_count": 6,
   "id": "82230523",
   "metadata": {},
   "outputs": [],
   "source": [
    "# Removing Target Encoded Columns from One-Hot Encoded DataFrame\n",
    "train_df_onehot = train_df_onehot.drop(columns=target_cols, axis=1)\n",
    "test_df_onehot = test_df_onehot.drop(columns=target_cols, axis=1)\n",
    "\n",
    "# Concatenating One-Hot and Target Encoded DataFrames:\n",
    "train_df_encoded = pd.concat([train_df_onehot, train_df_target_encoded[target_cols]], axis=1)\n",
    "test_df_encoded = pd.concat([test_df_onehot, test_df_target_encoded[target_cols]], axis=1)"
   ]
  },
  {
   "cell_type": "markdown",
   "id": "300a6a7e",
   "metadata": {},
   "source": [
    "## Feature Selection"
   ]
  },
  {
   "cell_type": "markdown",
   "id": "d69eee13",
   "metadata": {},
   "source": [
    "We perform feature selection using averaged importance scores from mutual information and CatBoost."
   ]
  },
  {
   "cell_type": "code",
   "execution_count": 7,
   "id": "02b642cb-827d-4dd7-9ace-76c6d0fc61ef",
   "metadata": {},
   "outputs": [],
   "source": [
    "# Separate features and target variable\n",
    "X_train = train_df_encoded.drop([target_variable], axis=1)\n",
    "y_train = train_df_encoded[target_variable]\n",
    "\n",
    "# Calculate Mutual Information scores\n",
    "mi_scores = mutual_info_classif(X_train, y_train)\n",
    "mi_scores = pd.Series(mi_scores, name='MI_Scores', index=X_train.columns)\n",
    "\n",
    "# CatBoost Importance\n",
    "catboost_model = CatBoostClassifier(iterations=100, verbose=0)\n",
    "catboost_model.fit(X_train, y_train)\n",
    "catboost_importances = pd.Series(catboost_model.get_feature_importance(), name='CatBoost_Importance', index=X_train.columns)\n",
    "\n",
    "# Combine and Normalize\n",
    "importance_df = pd.concat([mi_scores, catboost_importances], axis=1)\n",
    "importance_df['MI_Scores'] = (importance_df['MI_Scores'] - importance_df['MI_Scores'].min()) / (importance_df['MI_Scores'].max() - importance_df['MI_Scores'].min())\n",
    "importance_df['CatBoost_Importance'] = (importance_df['CatBoost_Importance'] - importance_df['CatBoost_Importance'].min()) / (importance_df['CatBoost_Importance'].max() - importance_df['CatBoost_Importance'].min())\n",
    "importance_df['Combined_Importance'] = (importance_df['MI_Scores'] + importance_df['CatBoost_Importance']) / 2\n",
    "\n",
    "# Sort and Select Features\n",
    "sorted_features = importance_df.sort_values(by='Combined_Importance', ascending=False).index\n",
    "N = 22\n",
    "selected_features = sorted_features[:N]\n",
    "X_train_selected = X_train[selected_features]\n",
    "X_test_selected = test_df_encoded.drop([target_variable], axis=1)[selected_features]"
   ]
  },
  {
   "cell_type": "markdown",
   "id": "e4ea30ff",
   "metadata": {},
   "source": [
    "## Hyperparameter Tuning"
   ]
  },
  {
   "cell_type": "markdown",
   "id": "66c661b8",
   "metadata": {},
   "source": [
    "We use three methods for hyperparameter tuning: Grid Search, Randomized Search, and Bayesian Optimization."
   ]
  },
  {
   "cell_type": "code",
   "execution_count": 8,
   "id": "bfccd008",
   "metadata": {},
   "outputs": [],
   "source": [
    "# Training the model to prepare for Hyperparameter Tuning\n",
    "def train_evaluate_knn(params):\n",
    "    knn_clf = KNeighborsClassifier(\n",
    "        n_neighbors=int(params['n_neighbors']),\n",
    "        weights=params['weights'],\n",
    "        algorithm=params['algorithm'],\n",
    "        leaf_size=int(params['leaf_size']),\n",
    "        p=params['p'],\n",
    "    )\n",
    "    knn_clf.fit(X_train_selected, y_train)\n",
    "    y_pred = knn_clf.predict(X_test_selected)\n",
    "    return accuracy_score(y_test, y_pred)"
   ]
  },
  {
   "cell_type": "code",
   "execution_count": 9,
   "id": "2bbd349a",
   "metadata": {},
   "outputs": [
    {
     "name": "stdout",
     "output_type": "stream",
     "text": [
      "Grid Search - Best Params: {'algorithm': 'auto', 'leaf_size': 20, 'n_neighbors': 9, 'p': 2, 'weights': 'distance'}, Best Accuracy: 0.6846954121147669\n"
     ]
    }
   ],
   "source": [
    "# Grid Search\n",
    "param_grid = {\n",
    "    'n_neighbors': [3, 5, 7, 9], \n",
    "    'weights': ['uniform', 'distance'],\n",
    "    'algorithm': ['auto', 'ball_tree', 'kd_tree', 'brute'],\n",
    "    'leaf_size': [20, 30, 40], \n",
    "    'p': [1, 2]  \n",
    "}\n",
    "\n",
    "grid_search = GridSearchCV(KNeighborsClassifier(), param_grid, cv=5, scoring='accuracy')\n",
    "grid_search.fit(X_train_selected, y_train)\n",
    "grid_best_params_knn = grid_search.best_params_\n",
    "grid_best_accuracy_knn = grid_search.best_score_\n",
    "\n",
    "print(f\"Grid Search - Best Params: {grid_best_params_knn}, Best Accuracy: {grid_best_accuracy_knn}\")"
   ]
  },
  {
   "cell_type": "code",
   "execution_count": 10,
   "id": "e3d2009e",
   "metadata": {},
   "outputs": [
    {
     "name": "stdout",
     "output_type": "stream",
     "text": [
      "Randomized Search - Best Params: {'weights': 'distance', 'p': 2, 'n_neighbors': 11, 'leaf_size': 20, 'algorithm': 'ball_tree'}, Best Accuracy: 0.6873357824970728\n"
     ]
    }
   ],
   "source": [
    "# Randomized Search\n",
    "param_dist_knn = {\n",
    "    'n_neighbors': [3, 5, 7, 9, 11],  \n",
    "    'weights': ['uniform', 'distance'],\n",
    "    'algorithm': ['auto', 'ball_tree', 'kd_tree', 'brute'],\n",
    "    'leaf_size': [20, 30, 40],  \n",
    "    'p': [1, 2]  \n",
    "}\n",
    "\n",
    "random_search_knn = RandomizedSearchCV(KNeighborsClassifier(), param_dist_knn, n_iter=20, cv=5, scoring='accuracy')\n",
    "random_search_knn.fit(X_train_selected, y_train)\n",
    "random_best_params_knn = random_search_knn.best_params_\n",
    "random_best_accuracy_knn = random_search_knn.best_score_\n",
    "\n",
    "print(f\"Randomized Search - Best Params: {random_best_params_knn}, Best Accuracy: {random_best_accuracy_knn}\")"
   ]
  },
  {
   "cell_type": "code",
   "execution_count": 11,
   "id": "d8fb042e",
   "metadata": {},
   "outputs": [
    {
     "name": "stdout",
     "output_type": "stream",
     "text": [
      "|   iter    |  target   | algorithm | leaf_size | n_neig... |     p     |  weights  |\n",
      "-------------------------------------------------------------------------------------\n",
      "| \u001b[0m1        \u001b[0m | \u001b[0m0.6148   \u001b[0m | \u001b[0m0.3745   \u001b[0m | \u001b[0m48.52    \u001b[0m | \u001b[0m11.78    \u001b[0m | \u001b[0m1.599    \u001b[0m | \u001b[0m0.156    \u001b[0m |\n",
      "| \u001b[95m2        \u001b[0m | \u001b[95m0.6201   \u001b[0m | \u001b[95m0.156    \u001b[0m | \u001b[95m21.74    \u001b[0m | \u001b[95m13.39    \u001b[0m | \u001b[95m1.601    \u001b[0m | \u001b[95m0.7081   \u001b[0m |\n",
      "| \u001b[0m3        \u001b[0m | \u001b[0m0.6121   \u001b[0m | \u001b[0m0.02058  \u001b[0m | \u001b[0m49.1     \u001b[0m | \u001b[0m12.99    \u001b[0m | \u001b[0m1.212    \u001b[0m | \u001b[0m0.1818   \u001b[0m |\n",
      "| \u001b[0m4        \u001b[0m | \u001b[0m0.6069   \u001b[0m | \u001b[0m0.1834   \u001b[0m | \u001b[0m29.13    \u001b[0m | \u001b[0m9.297    \u001b[0m | \u001b[0m1.432    \u001b[0m | \u001b[0m0.2912   \u001b[0m |\n",
      "| \u001b[0m5        \u001b[0m | \u001b[0m0.5897   \u001b[0m | \u001b[0m0.6119   \u001b[0m | \u001b[0m24.18    \u001b[0m | \u001b[0m6.506    \u001b[0m | \u001b[0m1.366    \u001b[0m | \u001b[0m0.4561   \u001b[0m |\n",
      "| \u001b[0m6        \u001b[0m | \u001b[0m0.6161   \u001b[0m | \u001b[0m1.0      \u001b[0m | \u001b[0m24.76    \u001b[0m | \u001b[0m15.0     \u001b[0m | \u001b[0m2.0      \u001b[0m | \u001b[0m1.0      \u001b[0m |\n",
      "| \u001b[0m7        \u001b[0m | \u001b[0m0.5923   \u001b[0m | \u001b[0m1.0      \u001b[0m | \u001b[0m44.88    \u001b[0m | \u001b[0m6.768    \u001b[0m | \u001b[0m2.0      \u001b[0m | \u001b[0m0.01671  \u001b[0m |\n",
      "| \u001b[0m8        \u001b[0m | \u001b[0m0.6161   \u001b[0m | \u001b[0m0.0      \u001b[0m | \u001b[0m20.0     \u001b[0m | \u001b[0m15.0     \u001b[0m | \u001b[0m2.0      \u001b[0m | \u001b[0m0.0      \u001b[0m |\n",
      "| \u001b[0m9        \u001b[0m | \u001b[0m0.6161   \u001b[0m | \u001b[0m0.6517   \u001b[0m | \u001b[0m32.13    \u001b[0m | \u001b[0m15.0     \u001b[0m | \u001b[0m2.0      \u001b[0m | \u001b[0m1.0      \u001b[0m |\n",
      "| \u001b[0m10       \u001b[0m | \u001b[0m0.6187   \u001b[0m | \u001b[0m1.0      \u001b[0m | \u001b[0m37.17    \u001b[0m | \u001b[0m15.0     \u001b[0m | \u001b[0m1.0      \u001b[0m | \u001b[0m1.0      \u001b[0m |\n",
      "| \u001b[0m11       \u001b[0m | \u001b[0m0.6016   \u001b[0m | \u001b[0m0.0      \u001b[0m | \u001b[0m35.64    \u001b[0m | \u001b[0m10.97    \u001b[0m | \u001b[0m1.0      \u001b[0m | \u001b[0m1.0      \u001b[0m |\n",
      "| \u001b[0m12       \u001b[0m | \u001b[0m0.6187   \u001b[0m | \u001b[0m1.0      \u001b[0m | \u001b[0m41.28    \u001b[0m | \u001b[0m15.0     \u001b[0m | \u001b[0m1.441    \u001b[0m | \u001b[0m1.0      \u001b[0m |\n",
      "| \u001b[0m13       \u001b[0m | \u001b[0m0.6161   \u001b[0m | \u001b[0m1.0      \u001b[0m | \u001b[0m45.18    \u001b[0m | \u001b[0m15.0     \u001b[0m | \u001b[0m2.0      \u001b[0m | \u001b[0m1.0      \u001b[0m |\n",
      "| \u001b[0m14       \u001b[0m | \u001b[0m0.6082   \u001b[0m | \u001b[0m1.0      \u001b[0m | \u001b[0m34.25    \u001b[0m | \u001b[0m3.0      \u001b[0m | \u001b[0m2.0      \u001b[0m | \u001b[0m0.7728   \u001b[0m |\n",
      "| \u001b[0m15       \u001b[0m | \u001b[0m0.6161   \u001b[0m | \u001b[0m0.0      \u001b[0m | \u001b[0m28.5     \u001b[0m | \u001b[0m15.0     \u001b[0m | \u001b[0m1.0      \u001b[0m | \u001b[0m0.0      \u001b[0m |\n",
      "| \u001b[0m16       \u001b[0m | \u001b[0m0.6055   \u001b[0m | \u001b[0m0.4296   \u001b[0m | \u001b[0m20.09    \u001b[0m | \u001b[0m11.21    \u001b[0m | \u001b[0m1.152    \u001b[0m | \u001b[0m0.8003   \u001b[0m |\n",
      "| \u001b[0m17       \u001b[0m | \u001b[0m0.6187   \u001b[0m | \u001b[0m1.0      \u001b[0m | \u001b[0m22.01    \u001b[0m | \u001b[0m15.0     \u001b[0m | \u001b[0m1.0      \u001b[0m | \u001b[0m1.0      \u001b[0m |\n",
      "| \u001b[0m18       \u001b[0m | \u001b[0m0.6029   \u001b[0m | \u001b[0m0.0      \u001b[0m | \u001b[0m50.0     \u001b[0m | \u001b[0m3.0      \u001b[0m | \u001b[0m1.0      \u001b[0m | \u001b[0m1.0      \u001b[0m |\n",
      "| \u001b[0m19       \u001b[0m | \u001b[0m0.6161   \u001b[0m | \u001b[0m0.0      \u001b[0m | \u001b[0m39.05    \u001b[0m | \u001b[0m15.0     \u001b[0m | \u001b[0m2.0      \u001b[0m | \u001b[0m0.0      \u001b[0m |\n",
      "| \u001b[0m20       \u001b[0m | \u001b[0m0.6121   \u001b[0m | \u001b[0m0.0      \u001b[0m | \u001b[0m43.32    \u001b[0m | \u001b[0m12.71    \u001b[0m | \u001b[0m1.0      \u001b[0m | \u001b[0m1.0      \u001b[0m |\n",
      "=====================================================================================\n",
      "Bayesian Optimization - Best Params: {'algorithm': 'auto', 'leaf_size': 21, 'n_neighbors': 13, 'p': 1, 'weights': 'distance'}, Best Accuracy: 0.6200527704485488\n"
     ]
    }
   ],
   "source": [
    "# Bayesian Optimization\n",
    "y_test = test_df_encoded[target_variable]\n",
    "\n",
    "def knn_bayesian(n_neighbors, leaf_size, p, weights, algorithm):\n",
    "    params = {\n",
    "        'n_neighbors': int(n_neighbors),\n",
    "        'leaf_size': int(leaf_size),\n",
    "        'p': int(p),\n",
    "        'weights': 'uniform' if weights < 0.5 else 'distance',\n",
    "        'algorithm': 'auto' if algorithm < 0.5 else 'ball_tree'\n",
    "    }\n",
    "    return train_evaluate_knn(params)\n",
    "\n",
    "\n",
    "optimizer_knn = BayesianOptimization(\n",
    "    f=knn_bayesian,\n",
    "    pbounds={\n",
    "        'n_neighbors': (3, 15), \n",
    "        'leaf_size': (20, 50),  \n",
    "        'p': (1, 2), \n",
    "        'weights': (0, 1),  \n",
    "        'algorithm': (0, 1)  \n",
    "    },\n",
    "    random_state=42,\n",
    ")\n",
    "\n",
    "optimizer_knn.maximize(init_points=5, n_iter=15)\n",
    "\n",
    "# Extracting the best parameters and the best accuracy\n",
    "bayesian_best_params_knn = optimizer_knn.max['params']\n",
    "bayesian_best_accuracy_knn = optimizer_knn.max['target']\n",
    "\n",
    "# Convert optimized parameters to integers where necessary and map float to string parameters\n",
    "bayesian_best_params_knn['n_neighbors'] = int(bayesian_best_params_knn['n_neighbors'])\n",
    "bayesian_best_params_knn['leaf_size'] = int(bayesian_best_params_knn['leaf_size'])\n",
    "bayesian_best_params_knn['p'] = int(bayesian_best_params_knn['p'])\n",
    "bayesian_best_params_knn['weights'] = 'uniform' if bayesian_best_params_knn['weights'] < 0.5 else 'distance'\n",
    "bayesian_best_params_knn['algorithm'] = 'auto' if bayesian_best_params_knn['algorithm'] < 0.5 else 'ball_tree'\n",
    "\n",
    "print(f\"Bayesian Optimization - Best Params: {bayesian_best_params_knn}, Best Accuracy: {bayesian_best_accuracy_knn}\")"
   ]
  },
  {
   "cell_type": "markdown",
   "id": "2e4c9c4d",
   "metadata": {},
   "source": [
    "## Evaluating Models"
   ]
  },
  {
   "cell_type": "markdown",
   "id": "5c17f4dd",
   "metadata": {},
   "source": [
    "After hyperparameter tuning, we evaluate the best models from each method on the test data."
   ]
  },
  {
   "cell_type": "code",
   "execution_count": 12,
   "id": "0e315eac",
   "metadata": {},
   "outputs": [],
   "source": [
    "from sklearn.neighbors import KNeighborsClassifier\n",
    "from sklearn.metrics import accuracy_score, precision_score, recall_score, f1_score\n",
    "import time\n",
    "import pandas as pd\n",
    "\n",
    "def train_evaluate(params, X_train, y_train, X_test, y_test, method):\n",
    "    for param_name in ['n_neighbors', 'leaf_size', 'p']:\n",
    "        if param_name in params:\n",
    "            params[param_name] = int(params[param_name])\n",
    "\n",
    "    # Training the model and recording training time\n",
    "    start_train_time = time.time()\n",
    "    knn_clf = KNeighborsClassifier(**params)\n",
    "    knn_clf.fit(X_train, y_train)\n",
    "    end_train_time = time.time()  \n",
    "    \n",
    "    # Testing the model and recording prediction time\n",
    "    start_test_time = time.time()  \n",
    "    y_pred = knn_clf.predict(X_test)\n",
    "    y_prob = knn_clf.predict_proba(X_test)[:, 1]\n",
    "    end_test_time = time.time()  \n",
    "    \n",
    "    # Calculating the metrics\n",
    "    test_accuracy = accuracy_score(y_test, y_pred)\n",
    "    test_precision = precision_score(y_test, y_pred)\n",
    "    test_recall = recall_score(y_test, y_pred)\n",
    "    test_f1 = f1_score(y_test, y_pred)\n",
    "    train_time = end_train_time - start_train_time\n",
    "    test_time = end_test_time - start_test_time\n",
    "    \n",
    "    # Creating the results dataframe\n",
    "    results_df = pd.DataFrame({\n",
    "        'Method': [method],\n",
    "        'Accuracy': [test_accuracy],\n",
    "        'Precision': [test_precision],\n",
    "        'Recall': [test_recall],\n",
    "        'F1-Score': [test_f1],\n",
    "        'Training Time (s)': [train_time],  \n",
    "        'Prediction Time (s)': [test_time]     \n",
    "    })\n",
    "    \n",
    "    return results_df"
   ]
  },
  {
   "cell_type": "code",
   "execution_count": 13,
   "id": "1b074243",
   "metadata": {},
   "outputs": [],
   "source": [
    "# Prepare the test data\n",
    "X_test_selected = test_df_encoded.drop([target_variable], axis=1)[selected_features]\n",
    "y_test = test_df_encoded[target_variable]\n",
    "\n",
    "# Convert Bayesian best parameters to the correct format for k-NN\n",
    "bayesian_best_params_knn = {key: int(value) if isinstance(value, float) and value.is_integer() else value for key, value in bayesian_best_params_knn.items()}\n",
    "\n",
    "# Evaluate the k-NN model using best parameters from each method\n",
    "results_grid_knn = train_evaluate(grid_best_params_knn, X_train_selected, y_train, X_test_selected, y_test, 'Grid Search')\n",
    "results_random_knn = train_evaluate(random_best_params_knn, X_train_selected, y_train, X_test_selected, y_test, 'Random Search')\n",
    "results_bayesian_knn = train_evaluate(bayesian_best_params_knn, X_train_selected, y_train, X_test_selected, y_test, 'Bayesian Optimization')"
   ]
  },
  {
   "cell_type": "markdown",
   "id": "9f3c518c",
   "metadata": {},
   "source": [
    "## Results Comparison"
   ]
  },
  {
   "cell_type": "markdown",
   "id": "e7669d24",
   "metadata": {},
   "source": [
    "Comparing the performance of the models using the best hyperparameters from Grid Search, Randomized Search, and Bayesian Optimization methods."
   ]
  },
  {
   "cell_type": "code",
   "execution_count": 14,
   "id": "f6c7adde",
   "metadata": {},
   "outputs": [
    {
     "name": "stdout",
     "output_type": "stream",
     "text": [
      "Grid Search for k-NN - Best Params: {'algorithm': 'auto', 'leaf_size': 20, 'n_neighbors': 9, 'p': 2, 'weights': 'distance'}, Best Accuracy: 0.6846954121147669\n",
      "Random Search for k-NN - Best Params: {'weights': 'distance', 'p': 2, 'n_neighbors': 11, 'leaf_size': 20, 'algorithm': 'ball_tree'}, Best Accuracy: 0.6873357824970728\n",
      "Bayesian Optimization for k-NN - Best Params: {'algorithm': 'auto', 'leaf_size': 21, 'n_neighbors': 13, 'p': 1, 'weights': 'distance'}, Best Accuracy: 0.6200527704485488\n",
      "                  Method  Accuracy  Precision    Recall  F1-Score  \\\n",
      "0            Grid Search  0.612137   0.641892  0.678571  0.659722   \n",
      "1          Random Search  0.608179   0.638202  0.676190  0.656647   \n",
      "2  Bayesian Optimization  0.620053   0.646018  0.695238  0.669725   \n",
      "\n",
      "   Training Time (s)  Prediction Time (s)  \n",
      "0           0.004257             0.140374  \n",
      "1           0.020000             0.311360  \n",
      "2           0.000000             0.221242  \n"
     ]
    }
   ],
   "source": [
    "# Concatenate the k-NN results\n",
    "final_results_knn = pd.concat([results_grid_knn, results_random_knn, results_bayesian_knn], axis=0).reset_index(drop=True)\n",
    "\n",
    "# Display the best parameters for k-NN\n",
    "print(f\"Grid Search for k-NN - Best Params: {grid_best_params_knn}, Best Accuracy: {grid_best_accuracy_knn}\")\n",
    "print(f\"Random Search for k-NN - Best Params: {random_best_params_knn}, Best Accuracy: {random_best_accuracy_knn}\")\n",
    "print(f\"Bayesian Optimization for k-NN - Best Params: {bayesian_best_params_knn}, Best Accuracy: {bayesian_best_accuracy_knn}\")\n",
    "\n",
    "# Display the final results for k-NN\n",
    "print(final_results_knn)"
   ]
  },
  {
   "cell_type": "code",
   "execution_count": null,
   "id": "df34a31e",
   "metadata": {},
   "outputs": [],
   "source": []
  }
 ],
 "metadata": {
  "kernelspec": {
   "display_name": "Python 3 (ipykernel)",
   "language": "python",
   "name": "python3"
  },
  "language_info": {
   "codemirror_mode": {
    "name": "ipython",
    "version": 3
   },
   "file_extension": ".py",
   "mimetype": "text/x-python",
   "name": "python",
   "nbconvert_exporter": "python",
   "pygments_lexer": "ipython3",
   "version": "3.10.9"
  }
 },
 "nbformat": 4,
 "nbformat_minor": 5
}
